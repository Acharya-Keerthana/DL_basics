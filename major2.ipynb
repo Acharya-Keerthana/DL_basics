{
  "nbformat": 4,
  "nbformat_minor": 0,
  "metadata": {
    "colab": {
      "provenance": [],
      "authorship_tag": "ABX9TyOe7djhpTOufpqc9fKttE0q",
      "include_colab_link": true
    },
    "kernelspec": {
      "name": "python3",
      "display_name": "Python 3"
    },
    "language_info": {
      "name": "python"
    }
  },
  "cells": [
    {
      "cell_type": "markdown",
      "metadata": {
        "id": "view-in-github",
        "colab_type": "text"
      },
      "source": [
        "<a href=\"https://colab.research.google.com/github/Acharya-Keerthana/DL_basics/blob/main/major2.ipynb\" target=\"_parent\"><img src=\"https://colab.research.google.com/assets/colab-badge.svg\" alt=\"Open In Colab\"/></a>"
      ]
    },
    {
      "cell_type": "markdown",
      "source": [
        "**ProblemStatement:Build a deeplearning\n",
        " model for object detection using CIFAR10 dataset.Try to get better accuracy by using different parameters and layers.**\n"
      ],
      "metadata": {
        "id": "vb71cbroq7nw"
      }
    },
    {
      "cell_type": "code",
      "source": [
        "import tensorflow as tf\n",
        "from tensorflow import keras\n",
        "from tensorflow.keras import layers"
      ],
      "metadata": {
        "id": "rJ8LWYbl77rb"
      },
      "execution_count": null,
      "outputs": []
    },
    {
      "cell_type": "code",
      "source": [
        "(x_train, y_train), (x_test, y_test) = keras.datasets.cifar10.load_data()\n",
        "x_train = x_train.astype(\"float32\") / 255.0\n",
        "x_test = x_test.astype(\"float32\") / 255.0"
      ],
      "metadata": {
        "colab": {
          "base_uri": "https://localhost:8080/"
        },
        "id": "Og_RfETf8DGu",
        "outputId": "901479e5-7b8e-4d5a-e3c3-2d6b1ea3c2c7"
      },
      "execution_count": null,
      "outputs": [
        {
          "output_type": "stream",
          "name": "stdout",
          "text": [
            "Downloading data from https://www.cs.toronto.edu/~kriz/cifar-10-python.tar.gz\n",
            "170498071/170498071 [==============================] - 3s 0us/step\n"
          ]
        }
      ]
    },
    {
      "cell_type": "code",
      "source": [
        "model = keras.Sequential([\n",
        "    layers.Conv2D(32, (3, 3), activation=\"relu\", padding=\"same\", input_shape=(32, 32, 3)),\n",
        "    layers.Conv2D(32, (3, 3), activation=\"relu\"),\n",
        "    layers.MaxPooling2D(pool_size=(2, 2)),\n",
        "    layers.Dropout(0.25),\n",
        "\n",
        "    layers.Conv2D(64, (3, 3), activation=\"relu\", padding=\"same\"),\n",
        "    layers.Conv2D(64, (3, 3), activation=\"relu\"),\n",
        "    layers.MaxPooling2D(pool_size=(2, 2)),\n",
        "    layers.Dropout(0.25),\n",
        "\n",
        "    layers.Flatten(),\n",
        "    layers.Dense(512, activation=\"relu\"),\n",
        "    layers.Dropout(0.5),\n",
        "    layers.Dense(10, activation=\"softmax\")\n",
        "])"
      ],
      "metadata": {
        "id": "Rj9wL19r8EGs"
      },
      "execution_count": null,
      "outputs": []
    },
    {
      "cell_type": "code",
      "source": [
        "model.compile(optimizer=\"adam\", loss=\"sparse_categorical_crossentropy\", metrics=[\"accuracy\"])"
      ],
      "metadata": {
        "id": "cENqqUK68Hde"
      },
      "execution_count": null,
      "outputs": []
    },
    {
      "cell_type": "code",
      "source": [
        "model.fit(x_train, y_train, batch_size=64, epochs=20, validation_split=0.1)"
      ],
      "metadata": {
        "colab": {
          "base_uri": "https://localhost:8080/"
        },
        "id": "_8o6f1OP8LE7",
        "outputId": "f6d2fd2f-6b37-4b15-c07c-1e7ac26dd083"
      },
      "execution_count": null,
      "outputs": [
        {
          "output_type": "stream",
          "name": "stdout",
          "text": [
            "Epoch 1/20\n",
            "704/704 [==============================] - 145s 205ms/step - loss: 1.6264 - accuracy: 0.4014 - val_loss: 1.2499 - val_accuracy: 0.5560\n",
            "Epoch 2/20\n",
            "704/704 [==============================] - 143s 203ms/step - loss: 1.1991 - accuracy: 0.5734 - val_loss: 0.9662 - val_accuracy: 0.6682\n",
            "Epoch 3/20\n",
            "704/704 [==============================] - 146s 207ms/step - loss: 1.0275 - accuracy: 0.6384 - val_loss: 0.8488 - val_accuracy: 0.7036\n",
            "Epoch 4/20\n",
            "704/704 [==============================] - 143s 203ms/step - loss: 0.9389 - accuracy: 0.6673 - val_loss: 0.8152 - val_accuracy: 0.7208\n",
            "Epoch 5/20\n",
            "704/704 [==============================] - 143s 203ms/step - loss: 0.8586 - accuracy: 0.6961 - val_loss: 0.7811 - val_accuracy: 0.7242\n",
            "Epoch 6/20\n",
            "704/704 [==============================] - 144s 204ms/step - loss: 0.8029 - accuracy: 0.7188 - val_loss: 0.6953 - val_accuracy: 0.7552\n",
            "Epoch 7/20\n",
            "704/704 [==============================] - 145s 206ms/step - loss: 0.7541 - accuracy: 0.7337 - val_loss: 0.6942 - val_accuracy: 0.7636\n",
            "Epoch 8/20\n",
            "704/704 [==============================] - 143s 204ms/step - loss: 0.7224 - accuracy: 0.7448 - val_loss: 0.6695 - val_accuracy: 0.7702\n",
            "Epoch 9/20\n",
            "704/704 [==============================] - 144s 204ms/step - loss: 0.6909 - accuracy: 0.7558 - val_loss: 0.6551 - val_accuracy: 0.7706\n",
            "Epoch 10/20\n",
            "704/704 [==============================] - 143s 203ms/step - loss: 0.6544 - accuracy: 0.7684 - val_loss: 0.6773 - val_accuracy: 0.7690\n",
            "Epoch 11/20\n",
            "704/704 [==============================] - 145s 206ms/step - loss: 0.6366 - accuracy: 0.7741 - val_loss: 0.6352 - val_accuracy: 0.7772\n",
            "Epoch 12/20\n",
            "704/704 [==============================] - 144s 204ms/step - loss: 0.6084 - accuracy: 0.7849 - val_loss: 0.6401 - val_accuracy: 0.7862\n",
            "Epoch 13/20\n",
            "704/704 [==============================] - 143s 204ms/step - loss: 0.5845 - accuracy: 0.7931 - val_loss: 0.6281 - val_accuracy: 0.7904\n",
            "Epoch 14/20\n",
            "704/704 [==============================] - 144s 205ms/step - loss: 0.5720 - accuracy: 0.7978 - val_loss: 0.6018 - val_accuracy: 0.7948\n",
            "Epoch 15/20\n",
            "704/704 [==============================] - 143s 203ms/step - loss: 0.5506 - accuracy: 0.8045 - val_loss: 0.6091 - val_accuracy: 0.7926\n",
            "Epoch 16/20\n",
            "704/704 [==============================] - 144s 204ms/step - loss: 0.5236 - accuracy: 0.8129 - val_loss: 0.6442 - val_accuracy: 0.7832\n",
            "Epoch 17/20\n",
            "704/704 [==============================] - 143s 203ms/step - loss: 0.5153 - accuracy: 0.8169 - val_loss: 0.6115 - val_accuracy: 0.7960\n",
            "Epoch 18/20\n",
            "704/704 [==============================] - 143s 204ms/step - loss: 0.5037 - accuracy: 0.8205 - val_loss: 0.6215 - val_accuracy: 0.7918\n",
            "Epoch 19/20\n",
            "704/704 [==============================] - 143s 203ms/step - loss: 0.4904 - accuracy: 0.8266 - val_loss: 0.5984 - val_accuracy: 0.7970\n",
            "Epoch 20/20\n",
            "704/704 [==============================] - 144s 204ms/step - loss: 0.4766 - accuracy: 0.8298 - val_loss: 0.6117 - val_accuracy: 0.7970\n"
          ]
        },
        {
          "output_type": "execute_result",
          "data": {
            "text/plain": [
              "<keras.callbacks.History at 0x7f417695a5f0>"
            ]
          },
          "metadata": {},
          "execution_count": 5
        }
      ]
    },
    {
      "cell_type": "code",
      "source": [
        "test_loss, test_acc = model.evaluate(x_test, y_test)\n",
        "print(\"Test accuracy:\", test_acc)"
      ],
      "metadata": {
        "colab": {
          "base_uri": "https://localhost:8080/"
        },
        "id": "TmO4R39X8OJM",
        "outputId": "4c27b586-0bcb-4e8b-e2bc-61276e7a9857"
      },
      "execution_count": null,
      "outputs": [
        {
          "output_type": "stream",
          "name": "stdout",
          "text": [
            "313/313 [==============================] - 8s 26ms/step - loss: 0.6565 - accuracy: 0.7870\n",
            "Test accuracy: 0.7870000004768372\n"
          ]
        }
      ]
    }
  ]
}