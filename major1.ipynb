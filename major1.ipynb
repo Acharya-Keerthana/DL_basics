{
  "nbformat": 4,
  "nbformat_minor": 0,
  "metadata": {
    "colab": {
      "provenance": [],
      "authorship_tag": "ABX9TyNgsA0SArFbu+rAcDLo/QBt",
      "include_colab_link": true
    },
    "kernelspec": {
      "name": "python3",
      "display_name": "Python 3"
    },
    "language_info": {
      "name": "python"
    }
  },
  "cells": [
    {
      "cell_type": "markdown",
      "metadata": {
        "id": "view-in-github",
        "colab_type": "text"
      },
      "source": [
        "<a href=\"https://colab.research.google.com/github/Acharya-Keerthana/DL_basics/blob/main/major1.ipynb\" target=\"_parent\"><img src=\"https://colab.research.google.com/assets/colab-badge.svg\" alt=\"Open In Colab\"/></a>"
      ]
    },
    {
      "cell_type": "markdown",
      "source": [
        "**ProblemStatement:Build a deeplearning model\n",
        " so as to recognize handwritten digits using the Mnistdataset**"
      ],
      "metadata": {
        "id": "GOYVXBgLrjHC"
      }
    },
    {
      "cell_type": "code",
      "source": [
        "import tensorflow as tf\n",
        "from tensorflow import keras\n",
        "from tensorflow.keras import layers"
      ],
      "metadata": {
        "id": "5vb_eDhjxWhd"
      },
      "execution_count": null,
      "outputs": []
    },
    {
      "cell_type": "code",
      "source": [
        "(x_train, y_train), (x_test, y_test) = keras.datasets.mnist.load_data()\n",
        "x_train = x_train.reshape(-1, 28, 28, 1).astype(\"float32\") / 255.0\n",
        "x_test = x_test.reshape(-1, 28, 28, 1).astype(\"float32\") / 255.0"
      ],
      "metadata": {
        "id": "YzkmkRZ2428b"
      },
      "execution_count": null,
      "outputs": []
    },
    {
      "cell_type": "code",
      "source": [
        "model = keras.Sequential([\n",
        "    layers.Conv2D(32, kernel_size=(3, 3), activation=\"relu\", input_shape=(28, 28, 1)),\n",
        "    layers.MaxPooling2D(pool_size=(2, 2)),\n",
        "    layers.Flatten(),\n",
        "    layers.Dense(64, activation=\"relu\"),\n",
        "    layers.Dense(10, activation=\"softmax\")\n",
        "])"
      ],
      "metadata": {
        "id": "OokHl2Zl5Di7"
      },
      "execution_count": null,
      "outputs": []
    },
    {
      "cell_type": "code",
      "source": [
        "model.compile(loss=\"sparse_categorical_crossentropy\", optimizer=\"adam\", metrics=[\"accuracy\"])"
      ],
      "metadata": {
        "id": "A0QUph1J5MCu"
      },
      "execution_count": null,
      "outputs": []
    },
    {
      "cell_type": "code",
      "source": [
        "model.fit(x_train, y_train, batch_size=128, epochs=10, validation_split=0.1)"
      ],
      "metadata": {
        "colab": {
          "base_uri": "https://localhost:8080/"
        },
        "id": "xz-84b1F5Pl3",
        "outputId": "49913dc9-2ac5-455d-f86e-5bec4eb236c6"
      },
      "execution_count": null,
      "outputs": [
        {
          "output_type": "stream",
          "name": "stdout",
          "text": [
            "Epoch 1/10\n",
            "422/422 [==============================] - 31s 70ms/step - loss: 0.2714 - accuracy: 0.9253 - val_loss: 0.0848 - val_accuracy: 0.9787\n",
            "Epoch 2/10\n",
            "422/422 [==============================] - 30s 70ms/step - loss: 0.0816 - accuracy: 0.9751 - val_loss: 0.0602 - val_accuracy: 0.9833\n",
            "Epoch 3/10\n",
            "422/422 [==============================] - 29s 68ms/step - loss: 0.0563 - accuracy: 0.9831 - val_loss: 0.0564 - val_accuracy: 0.9845\n",
            "Epoch 4/10\n",
            "422/422 [==============================] - 29s 68ms/step - loss: 0.0422 - accuracy: 0.9875 - val_loss: 0.0548 - val_accuracy: 0.9850\n",
            "Epoch 5/10\n",
            "422/422 [==============================] - 28s 67ms/step - loss: 0.0341 - accuracy: 0.9900 - val_loss: 0.0509 - val_accuracy: 0.9865\n",
            "Epoch 6/10\n",
            "422/422 [==============================] - 29s 69ms/step - loss: 0.0275 - accuracy: 0.9913 - val_loss: 0.0521 - val_accuracy: 0.9858\n",
            "Epoch 7/10\n",
            "422/422 [==============================] - 31s 73ms/step - loss: 0.0213 - accuracy: 0.9937 - val_loss: 0.0496 - val_accuracy: 0.9865\n",
            "Epoch 8/10\n",
            "422/422 [==============================] - 29s 68ms/step - loss: 0.0165 - accuracy: 0.9952 - val_loss: 0.0501 - val_accuracy: 0.9877\n",
            "Epoch 9/10\n",
            "422/422 [==============================] - 29s 68ms/step - loss: 0.0134 - accuracy: 0.9961 - val_loss: 0.0484 - val_accuracy: 0.9877\n",
            "Epoch 10/10\n",
            "422/422 [==============================] - 28s 67ms/step - loss: 0.0106 - accuracy: 0.9971 - val_loss: 0.0576 - val_accuracy: 0.9853\n"
          ]
        },
        {
          "output_type": "execute_result",
          "data": {
            "text/plain": [
              "<keras.callbacks.History at 0x7ff2bb70e800>"
            ]
          },
          "metadata": {},
          "execution_count": 8
        }
      ]
    },
    {
      "cell_type": "code",
      "source": [
        "test_loss, test_acc = model.evaluate(x_test, y_test)\n",
        "print(\"Test accuracy:\", test_acc)\n"
      ],
      "metadata": {
        "colab": {
          "base_uri": "https://localhost:8080/"
        },
        "id": "UB4ilYo25Sts",
        "outputId": "587dd999-00c1-402c-d25e-212413bc07dc"
      },
      "execution_count": null,
      "outputs": [
        {
          "output_type": "stream",
          "name": "stdout",
          "text": [
            "313/313 [==============================] - 2s 8ms/step - loss: 0.0551 - accuracy: 0.9838\n",
            "Test accuracy: 0.9837999939918518\n"
          ]
        }
      ]
    },
    {
      "cell_type": "code",
      "source": [],
      "metadata": {
        "id": "falrilHx6D9R"
      },
      "execution_count": null,
      "outputs": []
    }
  ]
}